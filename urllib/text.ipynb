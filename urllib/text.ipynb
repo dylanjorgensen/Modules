{
 "cells": [
  {
   "cell_type": "code",
   "execution_count": null,
   "metadata": {
    "collapsed": true
   },
   "outputs": [],
   "source": [
    "%pylab\n",
    "import tensorflow as tf"
   ]
  },
  {
   "cell_type": "markdown",
   "metadata": {},
   "source": [
    "### Read to temp"
   ]
  },
  {
   "cell_type": "code",
   "execution_count": 1,
   "metadata": {
    "collapsed": true
   },
   "outputs": [],
   "source": [
    "from six.moves import urllib\n",
    "f, _ = urllib.request.urlretrieve('http://textfiles.com/humor/JOKES/100.txt')\n",
    "\n",
    "with open(f, 'r') as fp:\n",
    "    txt = fp.read()"
   ]
  },
  {
   "cell_type": "code",
   "execution_count": 2,
   "metadata": {
    "collapsed": false
   },
   "outputs": [
    {
     "data": {
      "text/plain": [
       "\"Got an invitation you'd rather decline?  No problem.  Just pick\\na number:\\n\\nI'd love to, but...\\n\\n  1 \""
      ]
     },
     "execution_count": 2,
     "metadata": {},
     "output_type": "execute_result"
    }
   ],
   "source": [
    "# Read first 100 characters of text file\n",
    "txt[:100]"
   ]
  },
  {
   "cell_type": "code",
   "execution_count": 3,
   "metadata": {
    "collapsed": false
   },
   "outputs": [
    {
     "data": {
      "text/plain": [
       "(68, 4996)"
      ]
     },
     "execution_count": 3,
     "metadata": {},
     "output_type": "execute_result"
    }
   ],
   "source": [
    "# Creats a set of all possible characters\n",
    "vocab = list(set(txt))\n",
    "\n",
    "# Unique characters\n",
    "# Total characters\n",
    "len(vocab), len(txt)"
   ]
  },
  {
   "cell_type": "markdown",
   "metadata": {},
   "source": [
    "### Read to file"
   ]
  },
  {
   "cell_type": "code",
   "execution_count": 6,
   "metadata": {
    "collapsed": false
   },
   "outputs": [
    {
     "data": {
      "text/plain": [
       "'The Battle of the Nile. Two naval officers were disputing as to the importance of Lord Nelson\\'s victories. They wereunable to agree in opin\\n\\nThe Latter. Days of Bonaparte. At the close of the year 1820, Napoleon\\'s health began to fail so as to excite the greatest apprehensions.\\n\\nAn Unrehearsed Stage Effect. A good story is told of a certain actor whose fate it was to represent the inferior personages in the drama, s\\n\\n\" What\\'s in a Name.\" Iremember, says an old writer,a school-fellow of mine who wasa striking instance of the inconvenience ofa remarkableCh\\n\\nThe Blessing of Forgiveness. The brave only know how to forgive; it is the most refined and generous pitch of virtue human nature can arriv\\n\\n\\n\\n'"
      ]
     },
     "execution_count": 6,
     "metadata": {},
     "output_type": "execute_result"
    }
   ],
   "source": [
    "from six.moves import urllib\n",
    "import os\n",
    "\n",
    "path = \"victorian-jokes.txt\"\n",
    "if not os.path.isfile(path):\n",
    "    urllib.request.urlretrieve(\"https://raw.githubusercontent.com/dylanjorgensen/datasets/master/victorian/victorian-jokes.txt\", path)\n",
    "\n",
    "# Print stripped of markup\n",
    "with open(path, 'r') as fp:\n",
    "    raw_txt = fp.read()\n",
    "    \n",
    "raw_txt"
   ]
  },
  {
   "cell_type": "code",
   "execution_count": 5,
   "metadata": {
    "collapsed": false
   },
   "outputs": [
    {
     "name": "stdout",
     "output_type": "stream",
     "text": [
      "The Battle of the Nile. Two naval officers were disputing as to the importance of Lord Nelson's victories. They wereunable to agree in opin\n",
      "\n",
      "The Latter. Days of Bonaparte. At the close of the year 1820, Napoleon's health began to fail so as to excite the greatest apprehensions.\n",
      "\n",
      "An Unrehearsed Stage Effect. A good story is told of a certain actor whose fate it was to represent the inferior personages in the drama, s\n",
      "\n",
      "\" What's in a Name.\" Iremember, says an old writer,a school-fellow of mine who wasa striking instance of the inconvenience ofa remarkableCh\n",
      "\n",
      "The Blessing of Forgiveness. The brave only know how to forgive; it is the most refined and generous pitch of virtue human nature can arriv\n",
      "\n",
      "\n",
      "\n",
      "\n"
     ]
    }
   ],
   "source": [
    "# print with markup\n",
    "words = open(path, 'r')\n",
    "print(words.read())"
   ]
  },
  {
   "cell_type": "code",
   "execution_count": null,
   "metadata": {
    "collapsed": true
   },
   "outputs": [],
   "source": []
  }
 ],
 "metadata": {
  "anaconda-cloud": {},
  "kernelspec": {
   "display_name": "Python [default]",
   "language": "python",
   "name": "python3"
  },
  "language_info": {
   "codemirror_mode": {
    "name": "ipython",
    "version": 3
   },
   "file_extension": ".py",
   "mimetype": "text/x-python",
   "name": "python",
   "nbconvert_exporter": "python",
   "pygments_lexer": "ipython3",
   "version": "3.5.2"
  }
 },
 "nbformat": 4,
 "nbformat_minor": 1
}
