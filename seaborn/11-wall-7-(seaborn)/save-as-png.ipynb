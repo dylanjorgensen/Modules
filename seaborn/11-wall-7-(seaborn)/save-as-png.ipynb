{
 "cells": [
  {
   "cell_type": "code",
   "execution_count": null,
   "metadata": {
    "collapsed": true
   },
   "outputs": [],
   "source": [
    "# def plot_with_labels(low_dim_embs, labels, filename='tsne.png'):\n",
    "#   assert low_dim_embs.shape[0] >= len(labels), \"More labels than embeddings\"\n",
    "#   plt.figure(figsize=(18, 18))  #in inches\n",
    "#   for i, label in enumerate(labels):\n",
    "#     x, y = low_dim_embs[i,:]\n",
    "#     plt.scatter(x, y)\n",
    "#     plt.annotate(label,\n",
    "#                  xy=(x, y),\n",
    "#                  xytext=(5, 2),\n",
    "#                  textcoords='offset points',\n",
    "#                  ha='right',\n",
    "#                  va='bottom')\n",
    "\n",
    "#   plt.savefig(filename)"
   ]
  }
 ],
 "metadata": {
  "anaconda-cloud": {},
  "kernelspec": {
   "display_name": "Python [default]",
   "language": "python",
   "name": "python3"
  },
  "language_info": {
   "codemirror_mode": {
    "name": "ipython",
    "version": 3
   },
   "file_extension": ".py",
   "mimetype": "text/x-python",
   "name": "python",
   "nbconvert_exporter": "python",
   "pygments_lexer": "ipython3",
   "version": "3.5.2"
  }
 },
 "nbformat": 4,
 "nbformat_minor": 1
}
