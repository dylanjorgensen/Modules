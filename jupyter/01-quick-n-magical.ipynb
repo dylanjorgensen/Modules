{
 "cells": [
  {
   "cell_type": "markdown",
   "metadata": {
    "toc": "true"
   },
   "source": [
    "# Table of Contents\n",
    " <p><div class=\"lev3 toc-item\"><a href=\"#Resources:\" data-toc-modified-id=\"Resources:-0.0.1\"><span class=\"toc-item-num\">0.0.1&nbsp;&nbsp;</span>Resources:</a></div><div class=\"lev1 toc-item\"><a href=\"#Hacks\" data-toc-modified-id=\"Hacks-1\"><span class=\"toc-item-num\">1&nbsp;&nbsp;</span>Hacks</a></div><div class=\"lev3 toc-item\"><a href=\"#=-Add-Line-Numbers...\" data-toc-modified-id=\"=-Add-Line-Numbers...-1.0.1\"><span class=\"toc-item-num\">1.0.1&nbsp;&nbsp;</span>= Add Line Numbers...</a></div><div class=\"lev3 toc-item\"><a href=\"#=-Comment-Out-Multiple-Lines...\" data-toc-modified-id=\"=-Comment-Out-Multiple-Lines...-1.0.2\"><span class=\"toc-item-num\">1.0.2&nbsp;&nbsp;</span>= Comment Out Multiple Lines...</a></div><div class=\"lev3 toc-item\"><a href=\"#=-List-Active-Variables...\" data-toc-modified-id=\"=-List-Active-Variables...-1.0.3\"><span class=\"toc-item-num\">1.0.3&nbsp;&nbsp;</span>= List Active Variables...</a></div><div class=\"lev3 toc-item\"><a href=\"#=-Get-Method-Option-Completion-...\" data-toc-modified-id=\"=-Get-Method-Option-Completion-...-1.0.4\"><span class=\"toc-item-num\">1.0.4&nbsp;&nbsp;</span>= Get Method Option Completion ...</a></div><div class=\"lev3 toc-item\"><a href=\"#=-Get-Method-Parameter-Information...\" data-toc-modified-id=\"=-Get-Method-Parameter-Information...-1.0.5\"><span class=\"toc-item-num\">1.0.5&nbsp;&nbsp;</span>= Get Method Parameter Information...</a></div><div class=\"lev1 toc-item\"><a href=\"#Magics\" data-toc-modified-id=\"Magics-2\"><span class=\"toc-item-num\">2&nbsp;&nbsp;</span>Magics</a></div><div class=\"lev3 toc-item\"><a href=\"#=-List-All-Magics...\" data-toc-modified-id=\"=-List-All-Magics...-2.0.1\"><span class=\"toc-item-num\">2.0.1&nbsp;&nbsp;</span>= List All Magics...</a></div><div class=\"lev3 toc-item\"><a href=\"#=-Like-In-Terminal...\" data-toc-modified-id=\"=-Like-In-Terminal...-2.0.2\"><span class=\"toc-item-num\">2.0.2&nbsp;&nbsp;</span>= Like In Terminal...</a></div><div class=\"lev3 toc-item\"><a href=\"#=-Timing-Code...\" data-toc-modified-id=\"=-Timing-Code...-2.0.3\"><span class=\"toc-item-num\">2.0.3&nbsp;&nbsp;</span>= Timing Code...</a></div>"
   ]
  },
  {
   "cell_type": "markdown",
   "metadata": {},
   "source": [
    "### Resources:\n",
    "- [A gallery of interesting IPython Notebooks](https://github.com/ipython/ipython/wiki/A-gallery-of-interesting-IPython-Notebooks)\n",
    "- https://www.youtube.com/watch?v=V3VxQGevHCU&app=desktop"
   ]
  },
  {
   "cell_type": "code",
   "execution_count": 43,
   "metadata": {
    "collapsed": true
   },
   "outputs": [],
   "source": [
    "import numpy as np"
   ]
  },
  {
   "cell_type": "markdown",
   "metadata": {},
   "source": [
    "# Hacks"
   ]
  },
  {
   "cell_type": "markdown",
   "metadata": {},
   "source": [
    "### = Add Line Numbers...\n",
    "- [Terminal Instructions](http://tfursten.github.io/programming/2015/10/04/jupyter.html)"
   ]
  },
  {
   "cell_type": "markdown",
   "metadata": {},
   "source": [
    "### = Comment Out Multiple Lines...\n",
    "- It's Cmd + / on Mac"
   ]
  },
  {
   "cell_type": "code",
   "execution_count": 44,
   "metadata": {
    "collapsed": true
   },
   "outputs": [],
   "source": [
    "a = 1\n",
    "b = 2\n",
    "c = 3"
   ]
  },
  {
   "cell_type": "markdown",
   "metadata": {},
   "source": [
    "### = List Active Variables..."
   ]
  },
  {
   "cell_type": "code",
   "execution_count": 45,
   "metadata": {
    "collapsed": false,
    "scrolled": true
   },
   "outputs": [
    {
     "name": "stdout",
     "output_type": "stream",
     "text": [
      "Variable    Type        Data/Info\n",
      "---------------------------------\n",
      "a           int         1\n",
      "b           int         2\n",
      "c           int         3\n",
      "files       SList       ['01-quick-n-magical.ipynb', 'temp.py']\n",
      "hi          ndarray     2x1: 2 elems, type `float64`, 16 bytes\n",
      "np          module      <module 'numpy' from '//a<...>kages/numpy/__init__.py'>\n",
      "p1          function    <function p1 at 0x105f62ea0>\n",
      "p2          function    <function p2 at 0x10b7f5c80>\n",
      "xml_files   list        n=0\n"
     ]
    }
   ],
   "source": [
    "whos"
   ]
  },
  {
   "cell_type": "markdown",
   "metadata": {},
   "source": [
    "### = Get Method Option Completion ...\n",
    "- Type np, then period, then TAB"
   ]
  },
  {
   "cell_type": "code",
   "execution_count": 46,
   "metadata": {
    "collapsed": false
   },
   "outputs": [],
   "source": [
    "# np.\n",
    "# np.TAB (will list all methods)"
   ]
  },
  {
   "cell_type": "markdown",
   "metadata": {},
   "source": [
    "### = Get Method Parameter Information...\n",
    "- Put your mouse in the middle of the ()\n",
    "- Then hit SHIFT+TAB\n",
    " - 1 time for a temporary popup\n",
    " - 4 times for a lower screen version"
   ]
  },
  {
   "cell_type": "code",
   "execution_count": 47,
   "metadata": {
    "collapsed": false
   },
   "outputs": [],
   "source": [
    "# np.zeros()"
   ]
  },
  {
   "cell_type": "markdown",
   "metadata": {},
   "source": [
    "# Magics\n",
    "- Line magics, which precede and act on a single line\n",
    " - line magics need to be prefixed by %\n",
    "- Cell magics, which act on a cell in a Jupyter notebook\n",
    " - cell magics need to be prefixed by %%\n"
   ]
  },
  {
   "cell_type": "markdown",
   "metadata": {},
   "source": [
    "### = List All Magics...\n",
    "- %matplotlib inline - Places matplotlib plots inline\n",
    "- %%writefile - This magic writes the contents of a cell to a file.\n",
    "- %pprint - This magic toggles pretty print on/off\n",
    "- %debug magic"
   ]
  },
  {
   "cell_type": "code",
   "execution_count": 48,
   "metadata": {
    "collapsed": true
   },
   "outputs": [],
   "source": [
    "quickref"
   ]
  },
  {
   "cell_type": "markdown",
   "metadata": {},
   "source": [
    "### = Like In Terminal...\n",
    "- [Quora Convo](https://www.quora.com/What-are-your-favorite-tricks-for-IPython-Notebook)"
   ]
  },
  {
   "cell_type": "code",
   "execution_count": 49,
   "metadata": {
    "collapsed": false
   },
   "outputs": [
    {
     "name": "stdout",
     "output_type": "stream",
     "text": [
      "I am a temp file you called from a jupyter notebook\n",
      "[]\n"
     ]
    }
   ],
   "source": [
    "# Run files\n",
    "%run temp.py\n",
    "\n",
    "# Use Unix commands then save the results as python varables.\n",
    "files = !ls\n",
    "\n",
    "xml_files = [file for file in files if file.endswith(\".xml\")]\n",
    "\n",
    "print(xml_files)"
   ]
  },
  {
   "cell_type": "markdown",
   "metadata": {},
   "source": [
    "### = Timing Code..."
   ]
  },
  {
   "cell_type": "code",
   "execution_count": 53,
   "metadata": {
    "collapsed": false
   },
   "outputs": [
    {
     "name": "stdout",
     "output_type": "stream",
     "text": [
      "1000000 loops, best of 3: 1.76 µs per loop\n",
      "1000000 loops, best of 3: 447 ns per loop\n"
     ]
    },
    {
     "ename": "NameError",
     "evalue": "name 'x' is not defined",
     "output_type": "error",
     "traceback": [
      "\u001b[0;31m---------------------------------------------------------------------------\u001b[0m",
      "\u001b[0;31mNameError\u001b[0m                                 Traceback (most recent call last)",
      "\u001b[0;32m<ipython-input-53-df9db329cb59>\u001b[0m in \u001b[0;36m<module>\u001b[0;34m()\u001b[0m\n\u001b[1;32m      3\u001b[0m \u001b[0;34m\u001b[0m\u001b[0m\n\u001b[1;32m      4\u001b[0m \u001b[0mget_ipython\u001b[0m\u001b[0;34m(\u001b[0m\u001b[0;34m)\u001b[0m\u001b[0;34m.\u001b[0m\u001b[0mmagic\u001b[0m\u001b[0;34m(\u001b[0m\u001b[0;34m'timeit x = range(10000)'\u001b[0m\u001b[0;34m)\u001b[0m\u001b[0;34m\u001b[0m\u001b[0m\n\u001b[0;32m----> 5\u001b[0;31m \u001b[0mmax\u001b[0m\u001b[0;34m(\u001b[0m\u001b[0mx\u001b[0m\u001b[0;34m)\u001b[0m\u001b[0;34m\u001b[0m\u001b[0m\n\u001b[0m",
      "\u001b[0;31mNameError\u001b[0m: name 'x' is not defined"
     ]
    }
   ],
   "source": [
    "# This function is in the temp.py\n",
    "%timeit p1(10, (1, 2))\n",
    "\n",
    "%timeit x = range(10000)\n",
    "max(x)"
   ]
  }
 ],
 "metadata": {
  "kernelspec": {
   "display_name": "Python [Root]",
   "language": "python",
   "name": "Python [Root]"
  },
  "language_info": {
   "codemirror_mode": {
    "name": "ipython",
    "version": 3
   },
   "file_extension": ".py",
   "mimetype": "text/x-python",
   "name": "python",
   "nbconvert_exporter": "python",
   "pygments_lexer": "ipython3",
   "version": "3.5.2"
  },
  "nav_menu": {},
  "toc": {
   "navigate_menu": true,
   "number_sections": true,
   "sideBar": true,
   "threshold": 6,
   "toc_cell": true,
   "toc_section_display": "block",
   "toc_window_display": true
  }
 },
 "nbformat": 4,
 "nbformat_minor": 0
}
