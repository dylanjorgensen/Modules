{
 "cells": [
  {
   "cell_type": "markdown",
   "metadata": {},
   "source": [
    "### Resources:\n",
    "- [Quora](http://stackoverflow.com/questions/2018026/what-are-the-differences-between-the-urllib-urllib2-and-requests-module)"
   ]
  },
  {
   "cell_type": "markdown",
   "metadata": {},
   "source": [
    "- 4th most popular python package as of 2016\n",
    "- It's better than urlib for a fe reasons \n",
    " - Supports a fully restful API"
   ]
  },
  {
   "cell_type": "code",
   "execution_count": 2,
   "metadata": {
    "collapsed": true
   },
   "outputs": [],
   "source": [
    "import requests"
   ]
  },
  {
   "cell_type": "markdown",
   "metadata": {},
   "source": [
    "### Fully restful API"
   ]
  },
  {
   "cell_type": "raw",
   "metadata": {},
   "source": [
    "resp = requests.get('http://www.mywebsite.com/user')\n",
    "resp = requests.post('http://www.mywebsite.com/user')\n",
    "resp = requests.put('http://www.mywebsite.com/user/put')\n",
    "resp = requests.delete('http://www.mywebsite.com/user/delete')"
   ]
  },
  {
   "cell_type": "markdown",
   "metadata": {},
   "source": [
    "# Encode Parameters\n",
    "- Regardless of whether GET/POST you never have to encode parameters again, it simply takes a dictionary as an argument and is good to go."
   ]
  },
  {
   "cell_type": "raw",
   "metadata": {},
   "source": [
    "userdata = {\"firstname\": \"John\", \"lastname\": \"Doe\", \"password\": \"jdoe123\"}\n",
    "resp = requests.post('http://www.mywebsite.com/user', data=userdata)"
   ]
  },
  {
   "cell_type": "markdown",
   "metadata": {},
   "source": [
    "### = User Agents...\n",
    "- Pretend your an iphone by passing a mobile iPhone header\n",
    "- [list of HTTP headers](https://www.wikiwand.com/en/List_of_HTTP_header_fields)"
   ]
  },
  {
   "cell_type": "code",
   "execution_count": 8,
   "metadata": {
    "collapsed": false
   },
   "outputs": [
    {
     "data": {
      "text/plain": [
       "200"
      ]
     },
     "execution_count": 8,
     "metadata": {},
     "output_type": "execute_result"
    }
   ],
   "source": [
    "headers = {'user-agent': 'Mozilla/5.0 (iPhone; CPU iPhone OS 9_2 like Mac OS X)'}"
   ]
  },
  {
   "cell_type": "markdown",
   "metadata": {},
   "source": [
    "# Request Get"
   ]
  },
  {
   "cell_type": "code",
   "execution_count": null,
   "metadata": {
    "collapsed": true
   },
   "outputs": [],
   "source": [
    "url = 'http://geo.craigslist.org/iso/us/'\n",
    "headers = {'user-agent': 'Mozilla/5.0 (iPhone; CPU iPhone OS 9_2 like Mac OS X)'}\n",
    "response = requests.get(url, headers=headers)\n",
    "\n",
    "# We are testing for the code 200\n",
    "response.status_code"
   ]
  },
  {
   "cell_type": "code",
   "execution_count": 11,
   "metadata": {
    "collapsed": false,
    "scrolled": true
   },
   "outputs": [
    {
     "data": {
      "text/plain": [
       "{'Content-Type': 'text/html; charset=UTF-8', 'Expires': 'Tue, 18 Oct 2016 04:46:01 GMT', 'Cache-Control': 'max-age=3600, public', 'X-Frame-Options': 'SAMEORIGIN', 'Last-Modified': 'Tue, 18 Oct 2016 03:46:01 GMT', 'Vary': 'Accept-Encoding', 'Date': 'Tue, 18 Oct 2016 03:46:01 GMT', 'Server': 'Apache', 'Content-Length': '7027', 'Content-Encoding': 'gzip'}"
      ]
     },
     "execution_count": 11,
     "metadata": {},
     "output_type": "execute_result"
    }
   ],
   "source": [
    "# Headers\n",
    "response.headers"
   ]
  },
  {
   "cell_type": "code",
   "execution_count": 12,
   "metadata": {
    "collapsed": false
   },
   "outputs": [
    {
     "data": {
      "text/plain": [
       "b'<!DOCTYPE html>\\n<html class=\"no-js\">\\n    <head>\\n        <title>craigslist | united states</title>\\n        <link type=\"text/css\" rel=\"stylesheet\" media=\"all\" href=\"//www.craigslist.org/styles/cl.css?v=c27e72792da0a56cfce19f5d49f8838b\">\\n        <link type=\"text/css\" rel=\"stylesheet\" media=\"all\" href=\"//www.craigslist.org/styles/jquery-ui-clcustom.css?v=31607a98a2cb3fba2c70e3e66ecb4440\">\\n        <link type=\"text/css\" rel=\"stylesheet\" media=\"all\" href=\"//www.craigslist.org/styles/jquery.qtip-2.2.1.css?v=cd202aead4d1dd4894fbae4ade23fcf8\">\\n        <meta name=\"viewport\" content=\"width=device-width,initial-scale=1\">\\n        <!--[if lt IE 9]>\\n<script src=\"//www.craigslist.org/js/html5shiv.min.js?v=096822b653643ed1af3136947e4ea79a\" type=\"text/javascript\" ></script>\\n\\n<script src=\"//www.craigslist.org/js/respond-fork.min.js?v=d7e1cb0d97ee0c0c9d84a7d4f1d03469\" type=\"text/javascript\" ></script>\\n\\n<![endif]-->\\n<!--[if lte IE 7]>\\n<script src=\"//www.craigslist.org/js/json2.min.js?v=178d4ad319e0e0b4a451b15e49b71bec\" type=\"text/javascript\" ></script>\\n\\n<![endif]-->\\n    </head>\\n\\n    <body class=\"simple geo footer\">\\n        <script type=\"text/javascript\"><!--\\n    function C(k){return(document.cookie.match(\\'(^|; )\\'+k+\\'=([^;]*)\\')||0)[2]}\\n    var pagetype, pagemode;\\n    (function(){\\n        var h = document.documentElement;\\n        h.className = h.className.replace(\\'no-js\\', \\'js\\');\\n        var b = document.body;\\n        var bodyClassList = b.className.split(/\\\\s+/);;\\n        pagetype = bodyClassList[0]; // dangerous assumption\\n        var fmt = C(\\'cl_fmt\\');\\n        if ( fmt === \\'regular\\' || fmt === \\'mobile\\' ) {\\n            pagemode = fmt;\\n        } else if (screen.width <= 480) {\\n            pagemode = \\'mobile\\';\\n        } else {\\n            pagemode = \\'regular\\';\\n        }\\n        pagemode = pagemode === \\'mobile\\' ? \\'mobile\\' : \\'desktop\\';\\n        bodyClassList.push(pagemode);\\n        if (C(\\'hidesearch\\') === \\'1\\' && pagemode !== \\'mobile\\') {\\n            bodyClassList.push(\\'hide-search\\');\\n        }\\n        var width = window.innerWidth || document.documentElement.clientWidth;\\n        if (width > 1000) { bodyClassList.push(\\'w1024\\'); }\\n        if (typeof window.sectionBase !== \\'undefined\\') {\\n            var mode = (decodeURIComponent(C(\\'cl_tocmode\\') || \\'\\').match(new RegExp(window.sectionBase + \\':([^,]+)\\', \\'i\\')) || {})[1] || window.defaultView;\\n            if (mode) {\\n                bodyClassList.push(mode);\\n            }\\n        }\\n        b.className = bodyClassList.join(\\' \\');\\n    }());\\n--></script>\\n\\n\\n        <div id=\"pagecontainer\">\\n            <header><div class=\"contents\"><span id=\"toplink\"><a href=\"//www.craigslist.org/\">craigslist</a> &gt; </span>united states<sup><a href=\"http://en.wikipedia.org/wiki/united_states\">w</a></sup></div></header>\\n\\n            <section class=\"body\">\\n\\n                <div id=\"postingbody\">\\n                    <blockquote>\\n    <blockquote>\\n        <h4>choose the site nearest you:</h4>\\n            <ul id=\"list\" class=\"height6\">\\n                <li><a href=\"//abilene.craigslist.org/\">abilene, TX</a></li>\\n<li><a href=\"//akroncanton.craigslist.org/\">akron / canton</a></li>\\n<li><a href=\"//albanyga.craigslist.org/\">albany, GA</a></li>\\n<li><a href=\"//albany.craigslist.org/\"><b>albany, NY</b></a></li>\\n<li><a href=\"//albuquerque.craigslist.org/\"><b>albuquerque</b></a></li>\\n<li><a href=\"//altoona.craigslist.org/\">altoona-johnstown</a></li>\\n<li><a href=\"//amarillo.craigslist.org/\">amarillo, TX</a></li>\\n<li><a href=\"//ames.craigslist.org/\">ames, IA</a></li>\\n<li><a href=\"//anchorage.craigslist.org/\"><b>anchorage / mat-su</b></a></li>\\n<li><a href=\"//annapolis.craigslist.org/\">annapolis, MD</a></li>\\n<li><a href=\"//annarbor.craigslist.org/\">ann arbor, MI</a></li>\\n<li><a href=\"//appleton.craigslist.org/\">appleton-oshkosh-FDL</a></li>\\n<li><a href=\"//asheville.craigslist.org/\">asheville, NC</a></li>\\n<li><a href=\"//ashtabula.craigslist.org/\">ashtabula, OH</a></li>\\n<li><a href=\"//athensga.craigslist.org/\">athens, GA</a></li>\\n<li><a href=\"//athensohio.craigslist.org/\">athens, OH</a></li>\\n<li><a href=\"//atlanta.craigslist.org/\"><b>atlanta, GA</b></a></li>\\n<li><a href=\"//auburn.craigslist.org/\">auburn, AL</a></li>\\n<li><a href=\"//augusta.craigslist.org/\">augusta, GA</a></li>\\n<li><a href=\"//austin.craigslist.org/\"><b>austin, TX</b></a></li>\\n<li><a href=\"//bakersfield.craigslist.org/\">bakersfield, CA</a></li>\\n<li><a href=\"//baltimore.craigslist.org/\"><b>baltimore, MD</b></a></li>\\n<li><a href=\"//batonrouge.craigslist.org/\">baton rouge</a></li>\\n<li><a href=\"//battlecreek.craigslist.org/\">battle creek, MI</a></li>\\n<li><a href=\"//beaumont.craigslist.org/\">beaumont / port arthur</a></li>\\n<li><a href=\"//bellingham.craigslist.org/\">bellingham, WA</a></li>\\n<li><a href=\"//bemidji.craigslist.org/\">bemidji, MN</a></li>\\n<li><a href=\"//bend.craigslist.org/\">bend, OR</a></li>\\n<li><a href=\"//billings.craigslist.org/\">billings, MT</a></li>\\n<li><a href=\"//binghamton.craigslist.org/\">binghamton, NY</a></li>\\n<li><a href=\"//bham.craigslist.org/\">birmingham, AL</a></li>\\n<li><a href=\"//bismarck.craigslist.org/\">bismarck, ND</a></li>\\n<li><a href=\"//bloomington.craigslist.org/\">bloomington, IN</a></li>\\n<li><a href=\"//bn.craigslist.org/\">bloomington-normal</a></li>\\n<li><a href=\"//boise.craigslist.org/\"><b>boise, ID</b></a></li>\\n<li><a href=\"//boone.craigslist.org/\">boone, NC</a></li>\\n<li><a href=\"//boston.craigslist.org/\"><b>boston</b></a> - includes merrimack valley, metro west, north shore, south shore</li>\\n<li><a href=\"//boulder.craigslist.org/\">boulder, CO</a></li>\\n<li><a href=\"//bgky.craigslist.org/\">bowling green, KY</a></li>\\n<li><a href=\"//bozeman.craigslist.org/\">bozeman, MT</a></li>\\n<li><a href=\"//brainerd.craigslist.org/\">brainerd, MN</a></li>\\n<li><a href=\"//brownsville.craigslist.org/\">brownsville, TX</a></li>\\n<li><a href=\"//brunswick.craigslist.org/\">brunswick, GA</a></li>\\n<li><a href=\"//buffalo.craigslist.org/\"><b>buffalo, NY</b></a></li>\\n<li><a href=\"//butte.craigslist.org/\">butte, MT</a></li>\\n<li><a href=\"//capecod.craigslist.org/\">cape cod / islands</a></li>\\n<li><a href=\"//catskills.craigslist.org/\">catskills</a></li>\\n<li><a href=\"//cedarrapids.craigslist.org/\">cedar rapids, IA</a></li>\\n<li><a href=\"//cenla.craigslist.org/\">central louisiana</a></li>\\n<li><a href=\"//centralmich.craigslist.org/\">central michigan</a></li>\\n<li><a href=\"//cnj.craigslist.org/\">central NJ</a></li>\\n<li><a href=\"//chambana.craigslist.org/\">champaign urbana</a></li>\\n<li><a href=\"//charleston.craigslist.org/\">charleston, SC</a></li>\\n<li><a href=\"//charlestonwv.craigslist.org/\">charleston, WV</a></li>\\n<li><a href=\"//charlotte.craigslist.org/\"><b>charlotte, NC</b></a></li>\\n<li><a href=\"//charlottesville.craigslist.org/\">charlottesville, VA</a></li>\\n<li><a href=\"//chattanooga.craigslist.org/\">chattanooga, TN</a></li>\\n<li><a href=\"//chautauqua.craigslist.org/\">chautauqua, NY</a></li>\\n<li><a href=\"//chicago.craigslist.org/\"><b>chicago</b></a></li>\\n<li><a href=\"//chico.craigslist.org/\">chico, CA</a></li>\\n<li><a href=\"//chillicothe.craigslist.org/\">chillicothe, OH</a></li>\\n<li><a href=\"//cincinnati.craigslist.org/\"><b>cincinnati, OH</b></a></li>\\n<li><a href=\"//clarksville.craigslist.org/\">clarksville, TN</a></li>\\n<li><a href=\"//cleveland.craigslist.org/\"><b>cleveland, OH</b></a></li>\\n<li><a href=\"//clovis.craigslist.org/\">clovis / portales</a></li>\\n<li><a href=\"//collegestation.craigslist.org/\">college station, TX</a></li>\\n<li><a href=\"//cosprings.craigslist.org/\">colorado springs</a></li>\\n<li><a href=\"//columbiamo.craigslist.org/\">columbia / jeff city</a></li>\\n<li><a href=\"//columbia.craigslist.org/\">columbia, SC</a></li>\\n<li><a href=\"//columbusga.craigslist.org/\">columbus, GA</a></li>\\n<li><a href=\"//columbus.craigslist.org/\"><b>columbus, OH</b></a></li>\\n<li><a href=\"//cookeville.craigslist.org/\">cookeville, TN</a></li>\\n<li><a href=\"//corpuschristi.craigslist.org/\">corpus christi, TX</a></li>\\n<li><a href=\"//corvallis.craigslist.org/\">corvallis/albany</a></li>\\n<li><a href=\"//chambersburg.craigslist.org/\">cumberland valley</a></li>\\n<li><a href=\"//dallas.craigslist.org/\"><b>dallas / fort worth</b></a></li>\\n<li><a href=\"//danville.craigslist.org/\">danville</a></li>\\n<li><a href=\"//daytona.craigslist.org/\">daytona beach</a></li>\\n<li><a href=\"//dayton.craigslist.org/\">dayton / springfield</a></li>\\n<li><a href=\"//decatur.craigslist.org/\">decatur, IL</a></li>\\n<li><a href=\"//nacogdoches.craigslist.org/\">deep east texas</a></li>\\n<li><a href=\"//delaware.craigslist.org/\">delaware</a></li>\\n<li><a href=\"//delrio.craigslist.org/\">del rio / eagle pass</a></li>\\n<li><a href=\"//denver.craigslist.org/\"><b>denver, CO</b></a></li>\\n<li><a href=\"//desmoines.craigslist.org/\">des moines, IA</a></li>\\n<li><a href=\"//detroit.craigslist.org/\"><b>detroit metro</b></a></li>\\n<li><a href=\"//dothan.craigslist.org/\">dothan, AL</a></li>\\n<li><a href=\"//dubuque.craigslist.org/\">dubuque</a></li>\\n<li><a href=\"//duluth.craigslist.org/\">duluth / superior</a></li>\\n<li><a href=\"//eastco.craigslist.org/\">eastern CO</a></li>\\n<li><a href=\"//newlondon.craigslist.org/\">eastern CT</a></li>\\n<li><a href=\"//eastky.craigslist.org/\">eastern kentucky</a></li>\\n<li><a href=\"//montana.craigslist.org/\">eastern montana</a></li>\\n<li><a href=\"//eastnc.craigslist.org/\">eastern NC</a></li>\\n<li><a href=\"//martinsburg.craigslist.org/\">eastern panhandle</a></li>\\n<li><a href=\"//easternshore.craigslist.org/\">eastern shore</a></li>\\n<li><a href=\"//eastidaho.craigslist.org/\">east idaho</a></li>\\n<li><a href=\"//eastoregon.craigslist.org/\">east oregon</a></li>\\n<li><a href=\"//eauclaire.craigslist.org/\">eau claire, WI</a></li>\\n<li><a href=\"//elko.craigslist.org/\">elko, NV</a></li>\\n<li><a href=\"//elmira.craigslist.org/\">elmira-corning</a></li>\\n<li><a href=\"//elpaso.craigslist.org/\">el paso, TX</a></li>\\n<li><a href=\"//erie.craigslist.org/\">erie, PA</a></li>\\n<li><a href=\"//eugene.craigslist.org/\">eugene, OR</a></li>\\n<li><a href=\"//evansville.craigslist.org/\">evansville, IN</a></li>\\n<li><a href=\"//fairbanks.craigslist.org/\">fairbanks, AK</a></li>\\n<li><a href=\"//fargo.craigslist.org/\">fargo / moorhead</a></li>\\n<li><a href=\"//farmington.craigslist.org/\">farmington, NM</a></li>\\n<li><a href=\"//fayar.craigslist.org/\">fayetteville, AR</a></li>\\n<li><a href=\"//fayetteville.craigslist.org/\">fayetteville, NC</a></li>\\n<li><a href=\"//fingerlakes.craigslist.org/\">finger lakes, NY</a></li>\\n<li><a href=\"//flagstaff.craigslist.org/\">flagstaff / sedona</a></li>\\n<li><a href=\"//flint.craigslist.org/\">flint, MI</a></li>\\n<li><a href=\"//shoals.craigslist.org/\">florence / muscle shoals</a></li>\\n<li><a href=\"//florencesc.craigslist.org/\">florence, SC</a></li>\\n<li><a href=\"//keys.craigslist.org/\">florida keys</a></li>\\n<li><a href=\"//fortcollins.craigslist.org/\">fort collins / north CO</a></li>\\n<li><a href=\"//fortdodge.craigslist.org/\">fort dodge, IA</a></li>\\n<li><a href=\"//fortsmith.craigslist.org/\">fort smith, AR</a></li>\\n<li><a href=\"//fortwayne.craigslist.org/\">fort wayne, IN</a></li>\\n<li><a href=\"//frederick.craigslist.org/\">frederick, MD</a></li>\\n<li><a href=\"//fredericksburg.craigslist.org/\">fredericksburg, VA</a></li>\\n<li><a href=\"//fresno.craigslist.org/\"><b>fresno / madera</b></a></li>\\n<li><a href=\"//fortmyers.craigslist.org/\">ft myers / SW florida</a></li>\\n<li><a href=\"//gadsden.craigslist.org/\">gadsden-anniston</a></li>\\n<li><a href=\"//gainesville.craigslist.org/\">gainesville, FL</a></li>\\n<li><a href=\"//galveston.craigslist.org/\">galveston, TX</a></li>\\n<li><a href=\"//glensfalls.craigslist.org/\">glens falls, NY</a></li>\\n<li><a href=\"//goldcountry.craigslist.org/\">gold country</a></li>\\n<li><a href=\"//grandforks.craigslist.org/\">grand forks</a></li>\\n<li><a href=\"//grandisland.craigslist.org/\">grand island, NE</a></li>\\n<li><a href=\"//grandrapids.craigslist.org/\">grand rapids, MI</a></li>\\n<li><a href=\"//greatfalls.craigslist.org/\">great falls, MT</a></li>\\n<li><a href=\"//greenbay.craigslist.org/\">green bay, WI</a></li>\\n<li><a href=\"//greensboro.craigslist.org/\">greensboro, NC</a></li>\\n<li><a href=\"//greenville.craigslist.org/\">greenville / upstate</a></li>\\n<li><a href=\"//gulfport.craigslist.org/\">gulfport / biloxi</a></li>\\n<li><a href=\"//norfolk.craigslist.org/\"><b>hampton roads</b></a></li>\\n<li><a href=\"//hanford.craigslist.org/\">hanford-corcoran</a></li>\\n<li><a href=\"//harrisburg.craigslist.org/\">harrisburg, PA</a></li>\\n<li><a href=\"//harrisonburg.craigslist.org/\">harrisonburg, VA</a></li>\\n<li><a href=\"//hartford.craigslist.org/\"><b>hartford, CT</b></a></li>\\n<li><a href=\"//hattiesburg.craigslist.org/\">hattiesburg, MS</a></li>\\n<li><a href=\"//honolulu.craigslist.org/\"><b>hawaii</b></a></li>\\n<li><a href=\"//cfl.craigslist.org/\">heartland florida</a></li>\\n<li><a href=\"//helena.craigslist.org/\">helena, MT</a></li>\\n<li><a href=\"//hickory.craigslist.org/\">hickory / lenoir</a></li>\\n<li><a href=\"//rockies.craigslist.org/\">high rockies</a></li>\\n<li><a href=\"//hiltonhead.craigslist.org/\">hilton head</a></li>\\n<li><a href=\"//holland.craigslist.org/\">holland, MI</a></li>\\n<li><a href=\"//houma.craigslist.org/\">houma, LA</a></li>\\n<li><a href=\"//houston.craigslist.org/\"><b>houston, TX</b></a></li>\\n<li><a href=\"//hudsonvalley.craigslist.org/\">hudson valley, NY</a></li>\\n<li><a href=\"//humboldt.craigslist.org/\">humboldt county</a></li>\\n<li><a href=\"//huntington.craigslist.org/\">huntington-ashland</a></li>\\n<li><a href=\"//huntsville.craigslist.org/\">huntsville / decatur</a></li>\\n<li><a href=\"//imperial.craigslist.org/\">imperial county</a></li>\\n<li><a href=\"//indianapolis.craigslist.org/\"><b>indianapolis</b></a></li>\\n<li><a href=\"//inlandempire.craigslist.org/\">inland empire, CA</a> - riverside and san bernardino counties</li>\\n<li><a href=\"//iowacity.craigslist.org/\">iowa city, IA</a></li>\\n<li><a href=\"//ithaca.craigslist.org/\">ithaca, NY</a></li>\\n<li><a href=\"//jxn.craigslist.org/\">jackson, MI</a></li>\\n<li><a href=\"//jackson.craigslist.org/\">jackson, MS</a></li>\\n<li><a href=\"//jacksontn.craigslist.org/\">jackson, TN</a></li>\\n<li><a href=\"//jacksonville.craigslist.org/\">jacksonville, FL</a></li>\\n<li><a href=\"//onslow.craigslist.org/\">jacksonville, NC</a></li>\\n<li><a href=\"//janesville.craigslist.org/\">janesville, WI</a></li>\\n<li><a href=\"//jerseyshore.craigslist.org/\">jersey shore</a></li>\\n<li><a href=\"//jonesboro.craigslist.org/\">jonesboro, AR</a></li>\\n<li><a href=\"//joplin.craigslist.org/\">joplin, MO</a></li>\\n<li><a href=\"//kalamazoo.craigslist.org/\">kalamazoo, MI</a></li>\\n<li><a href=\"//kalispell.craigslist.org/\">kalispell, MT</a></li>\\n<li><a href=\"//kansascity.craigslist.org/\"><b>kansas city, MO</b></a></li>\\n<li><a href=\"//kenai.craigslist.org/\">kenai peninsula</a></li>\\n<li><a href=\"//kpr.craigslist.org/\">kennewick-pasco-richland</a></li>\\n<li><a href=\"//racine.craigslist.org/\">kenosha-racine</a></li>\\n<li><a href=\"//killeen.craigslist.org/\">killeen / temple / ft hood</a></li>\\n<li><a href=\"//kirksville.craigslist.org/\">kirksville, MO</a></li>\\n<li><a href=\"//klamath.craigslist.org/\">klamath falls, OR</a></li>\\n<li><a href=\"//knoxville.craigslist.org/\">knoxville, TN</a></li>\\n<li><a href=\"//kokomo.craigslist.org/\">kokomo, IN</a></li>\\n<li><a href=\"//lacrosse.craigslist.org/\">la crosse, WI</a></li>\\n<li><a href=\"//lafayette.craigslist.org/\">lafayette, LA</a></li>\\n<li><a href=\"//tippecanoe.craigslist.org/\">lafayette / west lafayette</a></li>\\n<li><a href=\"//lakecharles.craigslist.org/\">lake charles, LA</a></li>\\n<li><a href=\"//lakeland.craigslist.org/\">lakeland, FL</a></li>\\n<li><a href=\"//loz.craigslist.org/\">lake of the ozarks</a></li>\\n<li><a href=\"//lancaster.craigslist.org/\">lancaster, PA</a></li>\\n<li><a href=\"//lansing.craigslist.org/\">lansing, MI</a></li>\\n<li><a href=\"//laredo.craigslist.org/\">laredo, TX</a></li>\\n<li><a href=\"//lasalle.craigslist.org/\">la salle co</a></li>\\n<li><a href=\"//lascruces.craigslist.org/\">las cruces, NM</a></li>\\n<li><a href=\"//lasvegas.craigslist.org/\"><b>las vegas</b></a></li>\\n<li><a href=\"//lawrence.craigslist.org/\">lawrence, KS</a></li>\\n<li><a href=\"//lawton.craigslist.org/\">lawton, OK</a></li>\\n<li><a href=\"//allentown.craigslist.org/\">lehigh valley</a></li>\\n<li><a href=\"//lewiston.craigslist.org/\">lewiston / clarkston</a></li>\\n<li><a href=\"//lexington.craigslist.org/\">lexington, KY</a></li>\\n<li><a href=\"//limaohio.craigslist.org/\">lima / findlay</a></li>\\n<li><a href=\"//lincoln.craigslist.org/\">lincoln, NE</a></li>\\n<li><a href=\"//littlerock.craigslist.org/\">little rock</a></li>\\n<li><a href=\"//logan.craigslist.org/\">logan, UT</a></li>\\n<li><a href=\"//longisland.craigslist.org/\">long island, NY</a></li>\\n<li><a href=\"//losangeles.craigslist.org/\"><b>los angeles</b></a></li>\\n<li><a href=\"//louisville.craigslist.org/\"><b>louisville, KY</b></a></li>\\n<li><a href=\"//lubbock.craigslist.org/\">lubbock, TX</a></li>\\n<li><a href=\"//lynchburg.craigslist.org/\">lynchburg, VA</a></li>\\n<li><a href=\"//macon.craigslist.org/\">macon / warner robins</a></li>\\n<li><a href=\"//madison.craigslist.org/\">madison, WI</a></li>\\n<li><a href=\"//maine.craigslist.org/\">maine</a></li>\\n<li><a href=\"//ksu.craigslist.org/\">manhattan, KS</a></li>\\n<li><a href=\"//mankato.craigslist.org/\">mankato, MN</a></li>\\n<li><a href=\"//mansfield.craigslist.org/\">mansfield, OH</a></li>\\n<li><a href=\"//masoncity.craigslist.org/\">mason city, IA</a></li>\\n<li><a href=\"//mattoon.craigslist.org/\">mattoon-charleston</a></li>\\n<li><a href=\"//mcallen.craigslist.org/\">mcallen / edinburg</a></li>\\n<li><a href=\"//meadville.craigslist.org/\">meadville, PA</a></li>\\n<li><a href=\"//medford.craigslist.org/\">medford-ashland</a></li>\\n<li><a href=\"//memphis.craigslist.org/\"><b>memphis, TN</b></a></li>\\n<li><a href=\"//mendocino.craigslist.org/\">mendocino county</a></li>\\n<li><a href=\"//merced.craigslist.org/\">merced, CA</a></li>\\n<li><a href=\"//meridian.craigslist.org/\">meridian, MS</a></li>\\n<li><a href=\"//milwaukee.craigslist.org/\"><b>milwaukee, WI</b></a></li>\\n<li><a href=\"//minneapolis.craigslist.org/\"><b>minneapolis / st paul</b></a></li>\\n<li><a href=\"//missoula.craigslist.org/\">missoula, MT</a></li>\\n<li><a href=\"//mobile.craigslist.org/\">mobile, AL</a></li>\\n<li><a href=\"//modesto.craigslist.org/\">modesto, CA</a></li>\\n<li><a href=\"//mohave.craigslist.org/\">mohave county</a></li>\\n<li><a href=\"//monroe.craigslist.org/\">monroe, LA</a></li>\\n<li><a href=\"//monroemi.craigslist.org/\">monroe, MI</a></li>\\n<li><a href=\"//monterey.craigslist.org/\">monterey bay</a></li>\\n<li><a href=\"//montgomery.craigslist.org/\">montgomery, AL</a></li>\\n<li><a href=\"//morgantown.craigslist.org/\">morgantown, WV</a></li>\\n<li><a href=\"//moseslake.craigslist.org/\">moses lake, WA</a></li>\\n<li><a href=\"//muncie.craigslist.org/\">muncie / anderson</a></li>\\n<li><a href=\"//muskegon.craigslist.org/\">muskegon, MI</a></li>\\n<li><a href=\"//myrtlebeach.craigslist.org/\">myrtle beach, SC</a></li>\\n<li><a href=\"//nashville.craigslist.org/\"><b>nashville, TN</b></a></li>\\n<li><a href=\"//nh.craigslist.org/\">new hampshire</a></li>\\n<li><a href=\"//newhaven.craigslist.org/\">new haven, CT</a></li>\\n<li><a href=\"//neworleans.craigslist.org/\"><b>new orleans</b></a></li>\\n<li><a href=\"//blacksburg.craigslist.org/\">new river valley</a> - blacksburg, christiansburg, radford, etc</li>\\n<li><a href=\"//newyork.craigslist.org/\"><b>new york city</b></a></li>\\n<li><a href=\"//lakecity.craigslist.org/\">north central FL</a></li>\\n<li><a href=\"//nd.craigslist.org/\">north dakota</a></li>\\n<li><a href=\"//nesd.craigslist.org/\">northeast SD</a></li>\\n<li><a href=\"//nmi.craigslist.org/\">northern michigan</a></li>\\n<li><a href=\"//wheeling.craigslist.org/\">northern panhandle</a></li>\\n<li><a href=\"//northernwi.craigslist.org/\">northern WI</a></li>\\n<li><a href=\"//newjersey.craigslist.org/\">north jersey</a></li>\\n<li><a href=\"//northmiss.craigslist.org/\">north mississippi</a></li>\\n<li><a href=\"//northplatte.craigslist.org/\">north platte, NE</a></li>\\n<li><a href=\"//nwct.craigslist.org/\">northwest CT</a></li>\\n<li><a href=\"//nwga.craigslist.org/\">northwest GA</a></li>\\n<li><a href=\"//nwks.craigslist.org/\">northwest KS</a></li>\\n<li><a href=\"//enid.craigslist.org/\">northwest OK</a></li>\\n<li><a href=\"//ocala.craigslist.org/\">ocala, FL</a></li>\\n<li><a href=\"//odessa.craigslist.org/\">odessa / midland</a></li>\\n<li><a href=\"//ogden.craigslist.org/\">ogden-clearfield</a></li>\\n<li><a href=\"//okaloosa.craigslist.org/\">okaloosa / walton</a></li>\\n<li><a href=\"//oklahomacity.craigslist.org/\"><b>oklahoma city</b></a></li>\\n<li><a href=\"//olympic.craigslist.org/\">olympic peninsula</a></li>\\n<li><a href=\"//omaha.craigslist.org/\"><b>omaha / council bluffs</b></a></li>\\n<li><a href=\"//oneonta.craigslist.org/\">oneonta, NY</a></li>\\n<li><a href=\"//orangecounty.craigslist.org/\"><b>orange county, CA</b></a></li>\\n<li><a href=\"//oregoncoast.craigslist.org/\">oregon coast</a></li>\\n<li><a href=\"//orlando.craigslist.org/\"><b>orlando, FL</b></a></li>\\n<li><a href=\"//outerbanks.craigslist.org/\">outer banks</a></li>\\n<li><a href=\"//owensboro.craigslist.org/\">owensboro, KY</a></li>\\n<li><a href=\"//palmsprings.craigslist.org/\">palm springs, CA</a></li>\\n<li><a href=\"//panamacity.craigslist.org/\">panama city, FL</a></li>\\n<li><a href=\"//parkersburg.craigslist.org/\">parkersburg-marietta</a></li>\\n<li><a href=\"//pensacola.craigslist.org/\">pensacola, FL</a></li>\\n<li><a href=\"//peoria.craigslist.org/\">peoria, IL</a></li>\\n<li><a href=\"//philadelphia.craigslist.org/\"><b>philadelphia</b></a></li>\\n<li><a href=\"//phoenix.craigslist.org/\"><b>phoenix, AZ</b></a></li>\\n<li><a href=\"//csd.craigslist.org/\">pierre / central SD</a></li>\\n<li><a href=\"//pittsburgh.craigslist.org/\"><b>pittsburgh, PA</b></a></li>\\n<li><a href=\"//plattsburgh.craigslist.org/\">plattsburgh-adirondacks</a></li>\\n<li><a href=\"//poconos.craigslist.org/\">poconos</a></li>\\n<li><a href=\"//porthuron.craigslist.org/\">port huron, MI</a></li>\\n<li><a href=\"//portland.craigslist.org/\"><b>portland, OR</b></a></li>\\n<li><a href=\"//potsdam.craigslist.org/\">potsdam-canton-massena</a></li>\\n<li><a href=\"//prescott.craigslist.org/\">prescott, AZ</a></li>\\n<li><a href=\"//provo.craigslist.org/\">provo / orem</a></li>\\n<li><a href=\"//pueblo.craigslist.org/\">pueblo, CO</a></li>\\n<li><a href=\"//pullman.craigslist.org/\">pullman / moscow</a></li>\\n<li><a href=\"//quadcities.craigslist.org/\">quad cities, IA/IL</a></li>\\n<li><a href=\"//raleigh.craigslist.org/\"><b>raleigh / durham / CH</b></a></li>\\n<li><a href=\"//rapidcity.craigslist.org/\">rapid city / west SD</a></li>\\n<li><a href=\"//reading.craigslist.org/\">reading, PA</a></li>\\n<li><a href=\"//redding.craigslist.org/\">redding, CA</a></li>\\n<li><a href=\"//reno.craigslist.org/\">reno / tahoe</a></li>\\n<li><a href=\"//providence.craigslist.org/\"><b>rhode island</b></a></li>\\n<li><a href=\"//richmondin.craigslist.org/\">richmond, IN</a></li>\\n<li><a href=\"//richmond.craigslist.org/\"><b>richmond, VA</b></a></li>\\n<li><a href=\"//roanoke.craigslist.org/\">roanoke, VA</a></li>\\n<li><a href=\"//rmn.craigslist.org/\">rochester, MN</a></li>\\n<li><a href=\"//rochester.craigslist.org/\">rochester, NY</a></li>\\n<li><a href=\"//rockford.craigslist.org/\">rockford, IL</a></li>\\n<li><a href=\"//roseburg.craigslist.org/\">roseburg, OR</a></li>\\n<li><a href=\"//roswell.craigslist.org/\">roswell / carlsbad</a></li>\\n<li><a href=\"//sacramento.craigslist.org/\"><b>sacramento</b></a></li>\\n<li><a href=\"//saginaw.craigslist.org/\">saginaw-midland-baycity</a></li>\\n<li><a href=\"//salem.craigslist.org/\">salem, OR</a></li>\\n<li><a href=\"//salina.craigslist.org/\">salina, KS</a></li>\\n<li><a href=\"//saltlakecity.craigslist.org/\"><b>salt lake city</b></a></li>\\n<li><a href=\"//sanangelo.craigslist.org/\">san angelo, TX</a></li>\\n<li><a href=\"//sanantonio.craigslist.org/\"><b>san antonio</b></a></li>\\n<li><a href=\"//sandiego.craigslist.org/\"><b>san diego</b></a></li>\\n<li><a href=\"//sandusky.craigslist.org/\">sandusky, OH</a></li>\\n<li><a href=\"//slo.craigslist.org/\">san luis obispo</a></li>\\n<li><a href=\"//sanmarcos.craigslist.org/\">san marcos, TX</a></li>\\n<li><a href=\"//santabarbara.craigslist.org/\">santa barbara</a></li>\\n<li><a href=\"//santafe.craigslist.org/\">santa fe / taos</a></li>\\n<li><a href=\"//santamaria.craigslist.org/\">santa maria, CA</a></li>\\n<li><a href=\"//sarasota.craigslist.org/\">sarasota-bradenton</a></li>\\n<li><a href=\"//savannah.craigslist.org/\">savannah / hinesville</a></li>\\n<li><a href=\"//scottsbluff.craigslist.org/\">scottsbluff / panhandle</a></li>\\n<li><a href=\"//scranton.craigslist.org/\">scranton / wilkes-barre</a></li>\\n<li><a href=\"//seattle.craigslist.org/\"><b>seattle-tacoma</b></a></li>\\n<li><a href=\"//sfbay.craigslist.org/\"><b>SF bay area</b></a></li>\\n<li><a href=\"//sheboygan.craigslist.org/\">sheboygan, WI</a></li>\\n<li><a href=\"//showlow.craigslist.org/\">show low, AZ</a></li>\\n<li><a href=\"//shreveport.craigslist.org/\">shreveport, LA</a></li>\\n<li><a href=\"//sierravista.craigslist.org/\">sierra vista, AZ</a></li>\\n<li><a href=\"//siouxcity.craigslist.org/\">sioux city, IA</a></li>\\n<li><a href=\"//siouxfalls.craigslist.org/\">sioux falls / SE SD</a></li>\\n<li><a href=\"//siskiyou.craigslist.org/\">siskiyou county</a></li>\\n<li><a href=\"//skagit.craigslist.org/\">skagit / island / SJI</a></li>\\n<li><a href=\"//southbend.craigslist.org/\">south bend / michiana</a></li>\\n<li><a href=\"//southcoast.craigslist.org/\">south coast, MA</a> - southern bristol and plymouth counties</li>\\n<li><a href=\"//sd.craigslist.org/\">south dakota</a></li>\\n<li><a href=\"//juneau.craigslist.org/\">southeast alaska</a></li>\\n<li><a href=\"//ottumwa.craigslist.org/\">southeast IA</a></li>\\n<li><a href=\"//seks.craigslist.org/\">southeast KS</a></li>\\n<li><a href=\"//semo.craigslist.org/\">southeast missouri</a></li>\\n<li><a href=\"//carbondale.craigslist.org/\">southern illinois</a></li>\\n<li><a href=\"//smd.craigslist.org/\">southern maryland</a></li>\\n<li><a href=\"//swv.craigslist.org/\">southern WV</a></li>\\n<li><a href=\"//miami.craigslist.org/\"><b>south florida</b></a> - includes separate sections for miami/dade, broward, and palm beach counties</li>\\n<li><a href=\"//southjersey.craigslist.org/\">south jersey</a></li>\\n<li><a href=\"//swks.craigslist.org/\">southwest KS</a></li>\\n<li><a href=\"//swmi.craigslist.org/\">southwest michigan</a></li>\\n<li><a href=\"//marshall.craigslist.org/\">southwest MN</a></li>\\n<li><a href=\"//natchez.craigslist.org/\">southwest MS</a></li>\\n<li><a href=\"//bigbend.craigslist.org/\">southwest TX</a></li>\\n<li><a href=\"//swva.craigslist.org/\">southwest VA</a></li>\\n<li><a href=\"//spacecoast.craigslist.org/\">space coast, FL</a></li>\\n<li><a href=\"//spokane.craigslist.org/\">spokane / coeur d\\'alene</a></li>\\n<li><a href=\"//springfieldil.craigslist.org/\">springfield, IL</a></li>\\n<li><a href=\"//springfield.craigslist.org/\">springfield, MO</a></li>\\n<li><a href=\"//pennstate.craigslist.org/\">state college, PA</a></li>\\n<li><a href=\"//statesboro.craigslist.org/\">statesboro, GA</a></li>\\n<li><a href=\"//staugustine.craigslist.org/\">st augustine, FL</a></li>\\n<li><a href=\"//stcloud.craigslist.org/\">st cloud, MN</a></li>\\n<li><a href=\"//stgeorge.craigslist.org/\">st george, UT</a></li>\\n<li><a href=\"//stillwater.craigslist.org/\">stillwater, OK</a></li>\\n<li><a href=\"//stjoseph.craigslist.org/\">st joseph</a></li>\\n<li><a href=\"//stlouis.craigslist.org/\"><b>st louis, MO</b></a></li>\\n<li><a href=\"//stockton.craigslist.org/\">stockton, CA</a></li>\\n<li><a href=\"//susanville.craigslist.org/\">susanville, CA</a></li>\\n<li><a href=\"//syracuse.craigslist.org/\">syracuse, NY</a></li>\\n<li><a href=\"//tallahassee.craigslist.org/\">tallahassee</a></li>\\n<li><a href=\"//tampa.craigslist.org/\"><b>tampa bay area</b></a></li>\\n<li><a href=\"//terrehaute.craigslist.org/\">terre haute, IN</a></li>\\n<li><a href=\"//texarkana.craigslist.org/\">texarkana</a></li>\\n<li><a href=\"//texoma.craigslist.org/\">texoma</a></li>\\n<li><a href=\"//thumb.craigslist.org/\">the thumb, MI</a></li>\\n<li><a href=\"//toledo.craigslist.org/\">toledo, OH</a></li>\\n<li><a href=\"//topeka.craigslist.org/\">topeka, KS</a></li>\\n<li><a href=\"//treasure.craigslist.org/\">treasure coast, FL</a></li>\\n<li><a href=\"//tricities.craigslist.org/\">tri-cities, TN</a></li>\\n<li><a href=\"//tucson.craigslist.org/\"><b>tucson, AZ</b></a></li>\\n<li><a href=\"//tulsa.craigslist.org/\">tulsa, OK</a></li>\\n<li><a href=\"//tuscaloosa.craigslist.org/\">tuscaloosa</a></li>\\n<li><a href=\"//tuscarawas.craigslist.org/\">tuscarawas co</a></li>\\n<li><a href=\"//twinfalls.craigslist.org/\">twin falls, ID</a></li>\\n<li><a href=\"//twintiers.craigslist.org/\">twin tiers NY/PA</a></li>\\n<li><a href=\"//easttexas.craigslist.org/\">tyler / east TX</a></li>\\n<li><a href=\"//up.craigslist.org/\">upper peninsula, MI</a></li>\\n<li><a href=\"//utica.craigslist.org/\">utica-rome-oneida</a></li>\\n<li><a href=\"//valdosta.craigslist.org/\">valdosta, GA</a></li>\\n<li><a href=\"//ventura.craigslist.org/\">ventura county</a></li>\\n<li><a href=\"//vermont.craigslist.org/\">vermont</a></li>\\n<li><a href=\"//victoriatx.craigslist.org/\">victoria, TX</a></li>\\n<li><a href=\"//visalia.craigslist.org/\">visalia-tulare</a></li>\\n<li><a href=\"//waco.craigslist.org/\">waco, TX</a></li>\\n<li><a href=\"//washingtondc.craigslist.org/\"><b>washington, DC</b></a></li>\\n<li><a href=\"//waterloo.craigslist.org/\">waterloo / cedar falls</a></li>\\n<li><a href=\"//watertown.craigslist.org/\">watertown, NY</a></li>\\n<li><a href=\"//wausau.craigslist.org/\">wausau, WI</a></li>\\n<li><a href=\"//wenatchee.craigslist.org/\">wenatchee, WA</a></li>\\n<li><a href=\"//quincy.craigslist.org/\">western IL</a></li>\\n<li><a href=\"//westky.craigslist.org/\">western KY</a></li>\\n<li><a href=\"//westmd.craigslist.org/\">western maryland</a></li>\\n<li><a href=\"//westernmass.craigslist.org/\">western massachusetts</a></li>\\n<li><a href=\"//westslope.craigslist.org/\">western slope</a></li>\\n<li><a href=\"//wv.craigslist.org/\">west virginia (old)</a></li>\\n<li><a href=\"//wichitafalls.craigslist.org/\">wichita falls, TX</a></li>\\n<li><a href=\"//wichita.craigslist.org/\">wichita, KS</a></li>\\n<li><a href=\"//williamsport.craigslist.org/\">williamsport, PA</a></li>\\n<li><a href=\"//wilmington.craigslist.org/\">wilmington, NC</a></li>\\n<li><a href=\"//winchester.craigslist.org/\">winchester, VA</a></li>\\n<li><a href=\"//winstonsalem.craigslist.org/\">winston-salem, NC</a></li>\\n<li><a href=\"//worcester.craigslist.org/\">worcester / central MA</a></li>\\n<li><a href=\"//wyoming.craigslist.org/\">wyoming</a></li>\\n<li><a href=\"//yakima.craigslist.org/\">yakima, WA</a></li>\\n<li><a href=\"//york.craigslist.org/\">york, PA</a></li>\\n<li><a href=\"//youngstown.craigslist.org/\">youngstown, OH</a></li>\\n<li><a href=\"//yubasutter.craigslist.org/\">yuba-sutter, CA</a></li>\\n<li><a href=\"//yuma.craigslist.org/\">yuma, AZ</a></li>\\n<li><a href=\"//zanesville.craigslist.org/\">zanesville / cambridge</a></li>\\n\\n            </ul>\\n    </blockquote>\\n</blockquote>\\n                </div>\\n\\n                \\n\\n            </section>\\n            <footer>\\n    \\n    <ul class=\"clfooter\">\\n        <li>&copy; 2016 <span class=\"desktop\">craigslist</span><span class=\"mobile\">CL</span></li>\\n        <li><a href=\"//www.craigslist.org/about/help/\">help</a></li>\\n        <li><a href=\"//www.craigslist.org/about/scams\">safety</a></li>\\n        <li class=\"desktop\"><a href=\"//www.craigslist.org/about/privacy.policy\">privacy</a></li>\\n        <li class=\"desktop\"><a href=\"https://forums.craigslist.org/?forumID=8\">feedback</a></li>\\n        <li class=\"desktop\"><a href=\"//www.craigslist.org/about/craigslist_is_hiring\">cl jobs</a></li>\\n        <li><a href=\"//www.craigslist.org/about/terms.of.use\">terms</a></li>\\n        <li><a href=\"//www.craigslist.org/about/\">about</a></li>\\n        <li class=\"fsel desktop linklike\" data-mode=\"mobile\">mobile</li>\\n        <li class=\"fsel mobile linklike\" data-mode=\"regular\">desktop</li>\\n    </ul>\\n</footer>\\n        </div>\\n        <script src=\"//www.craigslist.org/js/jquery-1.11.3.min.js?v=80826eb702c0268c524f4431244c9556\" type=\"text/javascript\" ></script>\\n\\n        <script src=\"//www.craigslist.org/js/jquery-1.11.3.min.js?v=80826eb702c0268c524f4431244c9556\" type=\"text/javascript\" ></script>\\n\\n        <script src=\"//www.craigslist.org/js/general-concat.min.js?v=5ebb6f264ef818c30044ad679ed9876c\" type=\"text/javascript\" ></script>\\n\\n        <script type=\"text/javascript\"><!--\\n        var iframe = document.createElement(\\'iframe\\');\\n        iframe.style.display = \\'none\\';\\n        iframe.src = \\'//www.\\' + CL.url.baseDomain + \\'/static/localstorage.html?v=51a29e41f8e978141e4085ed4a77d170\\';\\n        document.body.insertBefore(iframe, null);\\n    --></script>\\n        \\n    </body>\\n</html>'"
      ]
     },
     "execution_count": 12,
     "metadata": {},
     "output_type": "execute_result"
    }
   ],
   "source": [
    "response.content"
   ]
  },
  {
   "cell_type": "markdown",
   "metadata": {},
   "source": [
    "# Decoding"
   ]
  },
  {
   "cell_type": "markdown",
   "metadata": {},
   "source": [
    "### = JSON Decoder..."
   ]
  },
  {
   "cell_type": "raw",
   "metadata": {},
   "source": [
    "resp.json()"
   ]
  },
  {
   "cell_type": "markdown",
   "metadata": {},
   "source": [
    "### = Text Decoder..."
   ]
  },
  {
   "cell_type": "raw",
   "metadata": {},
   "source": [
    "resp.text"
   ]
  },
  {
   "cell_type": "code",
   "execution_count": null,
   "metadata": {
    "collapsed": true
   },
   "outputs": [],
   "source": []
  }
 ],
 "metadata": {
  "anaconda-cloud": {},
  "kernelspec": {
   "display_name": "Python [default]",
   "language": "python",
   "name": "python3"
  },
  "language_info": {
   "codemirror_mode": {
    "name": "ipython",
    "version": 3
   },
   "file_extension": ".py",
   "mimetype": "text/x-python",
   "name": "python",
   "nbconvert_exporter": "python",
   "pygments_lexer": "ipython3",
   "version": "3.5.2"
  }
 },
 "nbformat": 4,
 "nbformat_minor": 1
}
