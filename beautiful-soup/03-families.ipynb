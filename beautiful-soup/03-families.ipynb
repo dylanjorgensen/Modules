{
 "cells": [
  {
   "cell_type": "markdown",
   "metadata": {},
   "source": [
    "### Resources:\n",
    "- [Functions in Soup](https://www.youtube.com/watch?v=KyRO2PAtGew&index=5&list=PLPAJhRBljod70fbhd_QZl1knZg6Px9Hdt)"
   ]
  },
  {
   "cell_type": "code",
   "execution_count": 2,
   "metadata": {
    "collapsed": false
   },
   "outputs": [
    {
     "data": {
      "text/plain": [
       "200"
      ]
     },
     "execution_count": 2,
     "metadata": {},
     "output_type": "execute_result"
    }
   ],
   "source": [
    "import requests\n",
    "\n",
    "url = 'https://raw.githubusercontent.com/dylanjorgensen/datasets/master/alice/alice.html'\n",
    "headers = {'user-agent': 'Mozilla/5.0 (iPhone; CPU iPhone OS 9_2 like Mac OS X)'}\n",
    "response = requests.get(url, headers=headers)\n",
    "\n",
    "# We are testing for the code 200\n",
    "response.status_code"
   ]
  },
  {
   "cell_type": "code",
   "execution_count": 4,
   "metadata": {
    "collapsed": false
   },
   "outputs": [
    {
     "data": {
      "text/plain": [
       "<bound method Tag.prettify of <html>\n",
       "<head>\n",
       "<title>\n",
       "   The Dormouse's story\n",
       "  </title>\n",
       "</head>\n",
       "<body>\n",
       "<p class=\"title\">\n",
       "<b>\n",
       "    The Dormouse's story\n",
       "   </b>\n",
       "</p>\n",
       "<p class=\"story\">\n",
       "   Once upon a time there were three little sisters; and their names were\n",
       "   <a class=\"sister\" href=\"http://example.com/elsie\" id=\"link1\">\n",
       "    Elsie\n",
       "   </a>\n",
       "   ,\n",
       "   <a class=\"sister\" href=\"http://example.com/lacie\" id=\"link2\">\n",
       "    Lacie\n",
       "   </a>\n",
       "   and\n",
       "   <a class=\"sister\" href=\"http://example.com/tillie\" id=\"link2\">\n",
       "    Tillie\n",
       "   </a>\n",
       "   ; and they lived at the bottom of a well.\n",
       "  </p>\n",
       "<p class=\"story\">\n",
       "   ...\n",
       "  </p>\n",
       "</body>\n",
       "</html>>"
      ]
     },
     "execution_count": 4,
     "metadata": {},
     "output_type": "execute_result"
    }
   ],
   "source": [
    "# We don't need the rest of the bs4 package\n",
    "from bs4 import BeautifulSoup\n",
    "\n",
    "soup = BeautifulSoup(response.content, 'lxml')\n",
    "\n",
    "soup.prettify"
   ]
  },
  {
   "cell_type": "markdown",
   "metadata": {},
   "source": [
    "### Contents"
   ]
  },
  {
   "cell_type": "code",
   "execution_count": 9,
   "metadata": {
    "collapsed": false
   },
   "outputs": [
    {
     "data": {
      "text/plain": [
       "<head>\n",
       "<title>\n",
       "   The Dormouse's story\n",
       "  </title>\n",
       "</head>"
      ]
     },
     "execution_count": 9,
     "metadata": {},
     "output_type": "execute_result"
    }
   ],
   "source": [
    "head_tag = soup.head\n",
    "head_tag"
   ]
  },
  {
   "cell_type": "code",
   "execution_count": 11,
   "metadata": {
    "collapsed": false
   },
   "outputs": [
    {
     "data": {
      "text/plain": [
       "['\\n', <title>\n",
       "    The Dormouse's story\n",
       "   </title>, '\\n']"
      ]
     },
     "execution_count": 11,
     "metadata": {},
     "output_type": "execute_result"
    }
   ],
   "source": [
    "head_tag.contents"
   ]
  },
  {
   "cell_type": "markdown",
   "metadata": {},
   "source": [
    "### Children"
   ]
  },
  {
   "cell_type": "code",
   "execution_count": 12,
   "metadata": {
    "collapsed": false
   },
   "outputs": [
    {
     "name": "stdout",
     "output_type": "stream",
     "text": [
      "\n",
      "\n",
      "<title>\n",
      "   The Dormouse's story\n",
      "  </title>\n",
      "\n",
      "\n"
     ]
    }
   ],
   "source": [
    "# This will get us each of the children tags\n",
    "# It only goes one level down\n",
    "for i in head_tag.children:\n",
    "    print(i)"
   ]
  },
  {
   "cell_type": "markdown",
   "metadata": {},
   "source": [
    "### descendants\n",
    "- This method returns the entire child hiarchy"
   ]
  },
  {
   "cell_type": "code",
   "execution_count": 14,
   "metadata": {
    "collapsed": false
   },
   "outputs": [
    {
     "name": "stdout",
     "output_type": "stream",
     "text": [
      "\n",
      "\n",
      "<title>\n",
      "   The Dormouse's story\n",
      "  </title>\n",
      "\n",
      "   The Dormouse's story\n",
      "  \n",
      "\n",
      "\n"
     ]
    }
   ],
   "source": [
    "# Descendants\n",
    "for i in head_tag.descendants:\n",
    "    print(i)"
   ]
  },
  {
   "cell_type": "code",
   "execution_count": null,
   "metadata": {
    "collapsed": true
   },
   "outputs": [],
   "source": []
  }
 ],
 "metadata": {
  "anaconda-cloud": {},
  "kernelspec": {
   "display_name": "Python [default]",
   "language": "python",
   "name": "python3"
  },
  "language_info": {
   "codemirror_mode": {
    "name": "ipython",
    "version": 3
   },
   "file_extension": ".py",
   "mimetype": "text/x-python",
   "name": "python",
   "nbconvert_exporter": "python",
   "pygments_lexer": "ipython3",
   "version": "3.5.2"
  }
 },
 "nbformat": 4,
 "nbformat_minor": 1
}
